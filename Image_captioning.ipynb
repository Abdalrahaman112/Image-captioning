{
  "nbformat": 4,
  "nbformat_minor": 0,
  "metadata": {
    "kernelspec": {
      "display_name": "Python [conda env:.conda-py3-TF2.0]",
      "language": "python",
      "name": "conda-env-.conda-py3-TF2.0-py"
    },
    "language_info": {
      "codemirror_mode": {
        "name": "ipython",
        "version": 3
      },
      "file_extension": ".py",
      "mimetype": "text/x-python",
      "name": "python",
      "nbconvert_exporter": "python",
      "pygments_lexer": "ipython3",
      "version": "3.7.5"
    },
    "colab": {
      "name": "Image_captioning.ipynb",
      "provenance": []
    }
  },
  "cells": [
    {
      "cell_type": "markdown",
      "metadata": {
        "id": "-q_rhWHBOA2i",
        "colab_type": "text"
      },
      "source": [
        "##Importing relevant libraries"
      ]
    },
    {
      "cell_type": "code",
      "metadata": {
        "id": "zy72-C23NxO6",
        "colab_type": "code",
        "colab": {}
      },
      "source": [
        "import os\n",
        "import matplotlib.pyplot as plt\n",
        "import numpy as np\n",
        "import tensorflow as tf\n",
        "\n",
        "keras = tf.keras"
      ],
      "execution_count": 0,
      "outputs": []
    },
    {
      "cell_type": "markdown",
      "metadata": {
        "id": "Vf0_Pxe8OHnk",
        "colab_type": "text"
      },
      "source": [
        "##Adding some relevant parameters"
      ]
    },
    {
      "cell_type": "code",
      "metadata": {
        "id": "Glcag4M0NxPb",
        "colab_type": "code",
        "colab": {}
      },
      "source": [
        "img_dimension = 299\n",
        "LSTM_size = 768\n",
        "max_cap_len = 15"
      ],
      "execution_count": 0,
      "outputs": []
    },
    {
      "cell_type": "markdown",
      "metadata": {
        "id": "cHZ7VfoLOXqf",
        "colab_type": "text"
      },
      "source": [
        "##Loading trained encoder and decoder"
      ]
    },
    {
      "cell_type": "code",
      "metadata": {
        "id": "kL0Q6iR7NxPl",
        "colab_type": "code",
        "colab": {},
        "outputId": "63ad8149-0c23-4051-b1e8-2277d7db3892"
      },
      "source": [
        "encoder = keras.models.load_model(\"Encoder.hdf5\")\n",
        "encoder.summary()"
      ],
      "execution_count": 0,
      "outputs": [
        {
          "output_type": "stream",
          "text": [
            "WARNING:tensorflow:No training configuration found in save file: the model was *not* compiled. Compile it manually.\n",
            "Model: \"model_1\"\n",
            "_________________________________________________________________\n",
            "Layer (type)                 Output Shape              Param #   \n",
            "=================================================================\n",
            "input_5 (InputLayer)         [(None, 299, 299, 3)]     0         \n",
            "_________________________________________________________________\n",
            "inception_v3 (Model)         (None, 8, 8, 2048)        21802784  \n",
            "_________________________________________________________________\n",
            "dense (Dense)                (None, 8, 8, 256)         524544    \n",
            "_________________________________________________________________\n",
            "flatten_1 (Flatten)          (None, 16384)             0         \n",
            "=================================================================\n",
            "Total params: 22,327,328\n",
            "Trainable params: 524,544\n",
            "Non-trainable params: 21,802,784\n",
            "_________________________________________________________________\n"
          ],
          "name": "stdout"
        }
      ]
    },
    {
      "cell_type": "code",
      "metadata": {
        "id": "R3InF01lNxPx",
        "colab_type": "code",
        "colab": {},
        "outputId": "a144734f-f17f-4d84-b9f3-492022556c40"
      },
      "source": [
        "decoder = keras.models.load_model(\"Decoder.hdf5\")\n",
        "decoder.summary()"
      ],
      "execution_count": 0,
      "outputs": [
        {
          "output_type": "stream",
          "text": [
            "WARNING:tensorflow:No training configuration found in save file: the model was *not* compiled. Compile it manually.\n",
            "Model: \"model_2\"\n",
            "__________________________________________________________________________________________________\n",
            "Layer (type)                    Output Shape         Param #     Connected to                     \n",
            "==================================================================================================\n",
            "input_10 (InputLayer)           [(None, 16384)]      0                                            \n",
            "__________________________________________________________________________________________________\n",
            "input_11 (InputLayer)           [(None, 1)]          0                                            \n",
            "__________________________________________________________________________________________________\n",
            "tf_op_layer_ExpandDims_1 (Tenso (None, 1, 16384)     0           input_10[0][0]                   \n",
            "__________________________________________________________________________________________________\n",
            "embedding (Embedding)           (None, 1, 256)       2560256     input_11[0][0]                   \n",
            "__________________________________________________________________________________________________\n",
            "concatenate_2 (Concatenate)     (None, 1, 16640)     0           tf_op_layer_ExpandDims_1[0][0]   \n",
            "                                                                 embedding[0][0]                  \n",
            "__________________________________________________________________________________________________\n",
            "input_12 (InputLayer)           [(None, 768)]        0                                            \n",
            "__________________________________________________________________________________________________\n",
            "input_13 (InputLayer)           [(None, 768)]        0                                            \n",
            "__________________________________________________________________________________________________\n",
            "lstm (LSTM)                     [(None, 1, 768), (No 53480448    concatenate_2[0][0]              \n",
            "                                                                 input_12[0][0]                   \n",
            "                                                                 input_13[0][0]                   \n",
            "__________________________________________________________________________________________________\n",
            "output_layer (Dense)            (None, 1, 10001)     7690769     lstm[0][0]                       \n",
            "__________________________________________________________________________________________________\n",
            "tf_op_layer_Softmax (TensorFlow (None, 1, 10001)     0           output_layer[0][0]               \n",
            "==================================================================================================\n",
            "Total params: 63,731,473\n",
            "Trainable params: 63,731,473\n",
            "Non-trainable params: 0\n",
            "__________________________________________________________________________________________________\n"
          ],
          "name": "stdout"
        }
      ]
    },
    {
      "cell_type": "markdown",
      "metadata": {
        "id": "RVTQtaThOeln",
        "colab_type": "text"
      },
      "source": [
        "##Loading tokenizer"
      ]
    },
    {
      "cell_type": "code",
      "metadata": {
        "id": "QafjJyuENxQK",
        "colab_type": "code",
        "colab": {}
      },
      "source": [
        "import pickle\n",
        "# loading\n",
        "with open('tokenizer.pickle', 'rb') as handle:\n",
        "    tok = pickle.load(handle)"
      ],
      "execution_count": 0,
      "outputs": []
    },
    {
      "cell_type": "markdown",
      "metadata": {
        "id": "tlRizRFHOmv-",
        "colab_type": "text"
      },
      "source": [
        "## Defining prediction functions\n",
        "This function takes as its input the path of the image for captioing"
      ]
    },
    {
      "cell_type": "code",
      "metadata": {
        "id": "FZzeO9CcNxQA",
        "colab_type": "code",
        "colab": {}
      },
      "source": [
        "def load_img(path):\n",
        "  img = tf.io.read_file(path)\n",
        "  img = tf.image.decode_jpeg(img, channels=3)\n",
        "  img = tf.image.resize(img, (img_dimension, img_dimension))\n",
        "  return img"
      ],
      "execution_count": 0,
      "outputs": []
    },
    {
      "cell_type": "code",
      "metadata": {
        "id": "hcxYjYQ-NxQR",
        "colab_type": "code",
        "colab": {}
      },
      "source": [
        "from tensorflow.keras.applications.inception_v3 import preprocess_input\n",
        "\n",
        "def caption_image(path):\n",
        "  image = load_img(path)#/255.0\n",
        "  img_input = preprocess_input(image)\n",
        "\n",
        "  encodings = encoder.predict(tf.reshape(img_input,(1,img_dimension,img_dimension,3)))\n",
        "\n",
        "  texts = [\"<sos>\"]\n",
        "  h = np.zeros((1,LSTM_size))\n",
        "  c = h\n",
        "  for _ in range(max_cap_len + 1):\n",
        "    dec_inp = np.array(tok.word_index.get(texts[-1])).reshape(1,-1)\n",
        "    props, h, c = decoder.predict([encodings,h, c ,dec_inp])\n",
        "    props= props[0]\n",
        "    idx = np.argmax(props)\n",
        "    \n",
        "    texts.append(tok.index_word.get(idx))\n",
        "    \n",
        "    if idx == tok.word_index['<eos>']:\n",
        "      break\n",
        "  if tok.word_index.get(texts[-1]) != tok.word_index['<eos>']:\n",
        "    texts.append('<eos>')\n",
        "  print(' '.join(texts))\n",
        "  plt.imshow(image/255.0)\n",
        "  plt.axis(\"off\")"
      ],
      "execution_count": 0,
      "outputs": []
    },
    {
      "cell_type": "code",
      "metadata": {
        "id": "5NCzg_EZPETd",
        "colab_type": "code",
        "colab": {}
      },
      "source": [
        ""
      ],
      "execution_count": 0,
      "outputs": []
    }
  ]
}